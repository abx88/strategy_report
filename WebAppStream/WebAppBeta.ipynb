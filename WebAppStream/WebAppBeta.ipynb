{
 "cells": [
  {
   "cell_type": "code",
   "execution_count": 18,
   "metadata": {},
   "outputs": [],
   "source": [
    "import pandas as pd\n",
    "import yfinance as yf\n",
    "import streamlit as st\n",
    "import datetime as dt\n",
    "import numpy as np\n",
    "import librerie.importazioni as imp\n",
    "import librerie.pattern as pt\n",
    "import plotly.graph_objects as go\n",
    "from plotly.subplots import make_subplots\n"
   ]
  },
  {
   "cell_type": "code",
   "execution_count": 19,
   "metadata": {},
   "outputs": [],
   "source": [
    "#instruments = pd.read_csv(\"Documents/Python/Python_Analisi_Quantitativa/WebAppStream/dati_input/strumenti.csv\")\n",
    "instruments = pd.read_csv(\"dati_input/strumenti.csv\")\n",
    "symbols = instruments['Symbol'].sort_values().tolist()  "
   ]
  },
  {
   "cell_type": "code",
   "execution_count": 20,
   "metadata": {},
   "outputs": [],
   "source": [
    "ticker = st.sidebar.selectbox(\n",
    "    'SCEGLI STRUMENTO',\n",
    "     symbols)  "
   ]
  },
  {
   "cell_type": "code",
   "execution_count": 21,
   "metadata": {},
   "outputs": [],
   "source": [
    "dfall=imp.import_mt5(\"dati_input/DAX.csv\")\n",
    "inizio=str(dfall.index.min())\n",
    "fine=str(dfall.index.max())"
   ]
  },
  {
   "cell_type": "code",
   "execution_count": 22,
   "metadata": {},
   "outputs": [
    {
     "data": {
      "text/html": [
       "<div>\n",
       "<style scoped>\n",
       "    .dataframe tbody tr th:only-of-type {\n",
       "        vertical-align: middle;\n",
       "    }\n",
       "\n",
       "    .dataframe tbody tr th {\n",
       "        vertical-align: top;\n",
       "    }\n",
       "\n",
       "    .dataframe thead th {\n",
       "        text-align: right;\n",
       "    }\n",
       "</style>\n",
       "<table border=\"1\" class=\"dataframe\">\n",
       "  <thead>\n",
       "    <tr style=\"text-align: right;\">\n",
       "      <th></th>\n",
       "      <th>open</th>\n",
       "      <th>high</th>\n",
       "      <th>low</th>\n",
       "      <th>close</th>\n",
       "      <th>volume</th>\n",
       "    </tr>\n",
       "    <tr>\n",
       "      <th>date_time</th>\n",
       "      <th></th>\n",
       "      <th></th>\n",
       "      <th></th>\n",
       "      <th></th>\n",
       "      <th></th>\n",
       "    </tr>\n",
       "  </thead>\n",
       "  <tbody>\n",
       "    <tr>\n",
       "      <th>2017-02-13 11:15:00</th>\n",
       "      <td>11726.00</td>\n",
       "      <td>11734.90</td>\n",
       "      <td>11722.10</td>\n",
       "      <td>11733.40</td>\n",
       "      <td>0</td>\n",
       "    </tr>\n",
       "    <tr>\n",
       "      <th>2017-02-13 11:30:00</th>\n",
       "      <td>11732.90</td>\n",
       "      <td>11739.10</td>\n",
       "      <td>11732.10</td>\n",
       "      <td>11733.90</td>\n",
       "      <td>0</td>\n",
       "    </tr>\n",
       "    <tr>\n",
       "      <th>2017-02-13 11:45:00</th>\n",
       "      <td>11733.40</td>\n",
       "      <td>11736.10</td>\n",
       "      <td>11730.60</td>\n",
       "      <td>11733.60</td>\n",
       "      <td>0</td>\n",
       "    </tr>\n",
       "    <tr>\n",
       "      <th>2017-02-13 12:00:00</th>\n",
       "      <td>11733.10</td>\n",
       "      <td>11748.10</td>\n",
       "      <td>11732.10</td>\n",
       "      <td>11742.90</td>\n",
       "      <td>0</td>\n",
       "    </tr>\n",
       "    <tr>\n",
       "      <th>2017-02-13 12:15:00</th>\n",
       "      <td>11743.10</td>\n",
       "      <td>11747.60</td>\n",
       "      <td>11738.60</td>\n",
       "      <td>11747.10</td>\n",
       "      <td>0</td>\n",
       "    </tr>\n",
       "    <tr>\n",
       "      <th>...</th>\n",
       "      <td>...</td>\n",
       "      <td>...</td>\n",
       "      <td>...</td>\n",
       "      <td>...</td>\n",
       "      <td>...</td>\n",
       "    </tr>\n",
       "    <tr>\n",
       "      <th>2022-01-17 20:45:00</th>\n",
       "      <td>15935.68</td>\n",
       "      <td>15943.64</td>\n",
       "      <td>15932.45</td>\n",
       "      <td>15941.47</td>\n",
       "      <td>0</td>\n",
       "    </tr>\n",
       "    <tr>\n",
       "      <th>2022-01-17 21:00:00</th>\n",
       "      <td>15941.96</td>\n",
       "      <td>15942.65</td>\n",
       "      <td>15932.47</td>\n",
       "      <td>15939.42</td>\n",
       "      <td>0</td>\n",
       "    </tr>\n",
       "    <tr>\n",
       "      <th>2022-01-17 21:15:00</th>\n",
       "      <td>15938.46</td>\n",
       "      <td>15940.68</td>\n",
       "      <td>15933.45</td>\n",
       "      <td>15936.95</td>\n",
       "      <td>0</td>\n",
       "    </tr>\n",
       "    <tr>\n",
       "      <th>2022-01-17 21:30:00</th>\n",
       "      <td>15936.47</td>\n",
       "      <td>15941.68</td>\n",
       "      <td>15935.45</td>\n",
       "      <td>15936.90</td>\n",
       "      <td>0</td>\n",
       "    </tr>\n",
       "    <tr>\n",
       "      <th>2022-01-17 21:45:00</th>\n",
       "      <td>15937.44</td>\n",
       "      <td>15939.95</td>\n",
       "      <td>15931.43</td>\n",
       "      <td>15935.46</td>\n",
       "      <td>0</td>\n",
       "    </tr>\n",
       "  </tbody>\n",
       "</table>\n",
       "<p>88562 rows × 5 columns</p>\n",
       "</div>"
      ],
      "text/plain": [
       "                         open      high       low     close  volume\n",
       "date_time                                                          \n",
       "2017-02-13 11:15:00  11726.00  11734.90  11722.10  11733.40       0\n",
       "2017-02-13 11:30:00  11732.90  11739.10  11732.10  11733.90       0\n",
       "2017-02-13 11:45:00  11733.40  11736.10  11730.60  11733.60       0\n",
       "2017-02-13 12:00:00  11733.10  11748.10  11732.10  11742.90       0\n",
       "2017-02-13 12:15:00  11743.10  11747.60  11738.60  11747.10       0\n",
       "...                       ...       ...       ...       ...     ...\n",
       "2022-01-17 20:45:00  15935.68  15943.64  15932.45  15941.47       0\n",
       "2022-01-17 21:00:00  15941.96  15942.65  15932.47  15939.42       0\n",
       "2022-01-17 21:15:00  15938.46  15940.68  15933.45  15936.95       0\n",
       "2022-01-17 21:30:00  15936.47  15941.68  15935.45  15936.90       0\n",
       "2022-01-17 21:45:00  15937.44  15939.95  15931.43  15935.46       0\n",
       "\n",
       "[88562 rows x 5 columns]"
      ]
     },
     "execution_count": 22,
     "metadata": {},
     "output_type": "execute_result"
    }
   ],
   "source": [
    "dfall"
   ]
  },
  {
   "cell_type": "code",
   "execution_count": 39,
   "metadata": {},
   "outputs": [],
   "source": [
    "dfts=pt.pattern(\"dati_input/DAX.csv\")\n",
    "dfts[\"DOWname\"]=np.where((dfts.index.dayofweek==0),\"lunedì\",\n",
    "                         np.where((dfts.index.dayofweek==1),\"martedì\",\n",
    "                         np.where((dfts.index.dayofweek==2),\"mercoledì\",\n",
    "                         np.where((dfts.index.dayofweek==3),\"giovedì\",\n",
    "                         np.where((dfts.index.dayofweek==4),\"venerdì\",\n",
    "                         np.where((dfts.index.dayofweek==5),\"sabato\",\n",
    "                         np.where((dfts.index.dayofweek==6),\"domenica\",0)))))))\n",
    "dfts[\"MOYname\"]=np.where((dfts.index.month==1),\"gennaio\",\n",
    "                         np.where((dfts.index.month==2),\"febbraio\",\n",
    "                         np.where((dfts.index.month==3),\"marzo\",\n",
    "                         np.where((dfts.index.month==4),\"aprile\",\n",
    "                         np.where((dfts.index.month==5),\"maggio\",\n",
    "                         np.where((dfts.index.month==6),\"giugno\",\n",
    "                         np.where((dfts.index.month==7),\"luglio\",\n",
    "                         np.where((dfts.index.month==8),\"agosto\",\n",
    "                         np.where((dfts.index.month==9),\"settembre\",\n",
    "                         np.where((dfts.index.month==10),\"ottobre\",\n",
    "                         np.where((dfts.index.month==11),\"novembre\",\n",
    "                         np.where((dfts.index.month==12),\"dicembre\",\n",
    "                         0))))))))))))\n",
    "\n"
   ]
  },
  {
   "cell_type": "code",
   "execution_count": 41,
   "metadata": {},
   "outputs": [
    {
     "data": {
      "text/plain": [
       "date_time\n",
       "2017-02-13    febbraio\n",
       "2017-02-14    febbraio\n",
       "2017-02-15    febbraio\n",
       "2017-02-16    febbraio\n",
       "2017-02-17    febbraio\n",
       "Name: MOYname, dtype: object"
      ]
     },
     "execution_count": 41,
     "metadata": {},
     "output_type": "execute_result"
    }
   ],
   "source": [
    "dfts.MOYname.head()"
   ]
  },
  {
   "cell_type": "code",
   "execution_count": null,
   "metadata": {},
   "outputs": [],
   "source": []
  }
 ],
 "metadata": {
  "kernelspec": {
   "display_name": "Python 3",
   "language": "python",
   "name": "python3"
  },
  "language_info": {
   "codemirror_mode": {
    "name": "ipython",
    "version": 3
   },
   "file_extension": ".py",
   "mimetype": "text/x-python",
   "name": "python",
   "nbconvert_exporter": "python",
   "pygments_lexer": "ipython3",
   "version": "3.8.5"
  }
 },
 "nbformat": 4,
 "nbformat_minor": 4
}
